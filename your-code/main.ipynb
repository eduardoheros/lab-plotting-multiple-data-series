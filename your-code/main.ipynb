{
  "nbformat": 4,
  "nbformat_minor": 0,
  "metadata": {
    "kernelspec": {
      "display_name": "Python 3",
      "language": "python",
      "name": "python3"
    },
    "language_info": {
      "codemirror_mode": {
        "name": "ipython",
        "version": 3
      },
      "file_extension": ".py",
      "mimetype": "text/x-python",
      "name": "python",
      "nbconvert_exporter": "python",
      "pygments_lexer": "ipython3",
      "version": "3.7.2"
    },
    "colab": {
      "name": "main.ipynb",
      "provenance": []
    },
    "widgets": {
      "application/vnd.jupyter.widget-state+json": {
        "81dec110da3f4763a44dfe73747565ce": {
          "model_module": "jupyter-matplotlib",
          "model_name": "MPLCanvasModel",
          "state": {
            "_view_name": "MPLCanvasView",
            "_view_module": "jupyter-matplotlib",
            "_figure_label": "Figure",
            "_view_count": null,
            "_cursor": "pointer",
            "_model_module": "jupyter-matplotlib",
            "layout": "IPY_MODEL_d02b910868fa43c1bf8545eccb827244",
            "footer_visible": true,
            "_image_mode": "full",
            "_dom_classes": [],
            "resizable": true,
            "_model_name": "MPLCanvasModel",
            "_height": 0,
            "header_visible": true,
            "_model_module_version": "^0.7.2",
            "_rubberband_x": 0,
            "_rubberband_y": 0,
            "toolbar": "IPY_MODEL_d59124890bf547c6bb3e64e38a609949",
            "toolbar_visible": true,
            "_rubberband_width": 0,
            "_width": 0,
            "_message": "",
            "_rubberband_height": 0,
            "_view_module_version": "^0.7.2",
            "toolbar_position": "left"
          }
        },
        "adf392a3204a4b868d0fac4d8d059013": {
          "model_module": "jupyter-matplotlib",
          "model_name": "MPLCanvasModel",
          "state": {
            "_view_name": "MPLCanvasView",
            "_view_module": "jupyter-matplotlib",
            "_figure_label": "Figure",
            "_view_count": null,
            "_cursor": "pointer",
            "_model_module": "jupyter-matplotlib",
            "layout": "IPY_MODEL_c24a3ba64832471dbcf4784d98e79f6b",
            "footer_visible": true,
            "_image_mode": "full",
            "_dom_classes": [],
            "resizable": true,
            "_model_name": "MPLCanvasModel",
            "_height": 0,
            "header_visible": true,
            "_model_module_version": "^0.7.2",
            "_rubberband_x": 0,
            "_rubberband_y": 0,
            "toolbar": "IPY_MODEL_7e9546bdec6e424fae75329e89e4d239",
            "toolbar_visible": true,
            "_rubberband_width": 0,
            "_width": 0,
            "_message": "",
            "_rubberband_height": 0,
            "_view_module_version": "^0.7.2",
            "toolbar_position": "left"
          }
        },
        "e8df84e5ea6a461394fc4fd17581ed84": {
          "model_module": "jupyter-matplotlib",
          "model_name": "MPLCanvasModel",
          "state": {
            "_view_name": "MPLCanvasView",
            "_view_module": "jupyter-matplotlib",
            "_figure_label": "Figure",
            "_view_count": null,
            "_cursor": "pointer",
            "_model_module": "jupyter-matplotlib",
            "layout": "IPY_MODEL_086aebf8a7884bbab5772b233c2d8644",
            "footer_visible": true,
            "_image_mode": "full",
            "_dom_classes": [],
            "resizable": true,
            "_model_name": "MPLCanvasModel",
            "_height": 0,
            "header_visible": true,
            "_model_module_version": "^0.7.2",
            "_rubberband_x": 0,
            "_rubberband_y": 0,
            "toolbar": "IPY_MODEL_b1676612af6345dbafef0c3e7ba5a124",
            "toolbar_visible": true,
            "_rubberband_width": 0,
            "_width": 0,
            "_message": "",
            "_rubberband_height": 0,
            "_view_module_version": "^0.7.2",
            "toolbar_position": "left"
          }
        },
        "21b1433893d744538b885534e09f6b79": {
          "model_module": "jupyter-matplotlib",
          "model_name": "MPLCanvasModel",
          "state": {
            "_view_name": "MPLCanvasView",
            "_view_module": "jupyter-matplotlib",
            "_figure_label": "Figure",
            "_view_count": null,
            "_cursor": "pointer",
            "_model_module": "jupyter-matplotlib",
            "layout": "IPY_MODEL_84d070e0a7374a72a94f09c449df5b95",
            "footer_visible": true,
            "_image_mode": "full",
            "_dom_classes": [],
            "resizable": true,
            "_model_name": "MPLCanvasModel",
            "_height": 0,
            "header_visible": true,
            "_model_module_version": "^0.7.2",
            "_rubberband_x": 0,
            "_rubberband_y": 0,
            "toolbar": "IPY_MODEL_bf414039056a4955943bd506402f69ce",
            "toolbar_visible": true,
            "_rubberband_width": 0,
            "_width": 0,
            "_message": "",
            "_rubberband_height": 0,
            "_view_module_version": "^0.7.2",
            "toolbar_position": "left"
          }
        }
      }
    }
  },
  "cells": [
    {
      "cell_type": "markdown",
      "metadata": {
        "id": "rBPg_lwa5eT5",
        "colab_type": "text"
      },
      "source": [
        "# Plotting Multiple Data Series\n",
        "\n",
        "Complete the following set of exercises to solidify your knowledge of plotting multiple data series with pandas, matplotlib, and seaborn. Part of the challenge that comes with plotting multiple data series is transforming the data into the form needed to visualize it like you want. For some of the exercises in this lab, you will need to transform the data into the form most appropriate for generating the visualization and then create the plot."
      ]
    },
    {
      "cell_type": "code",
      "metadata": {
        "id": "raHcdxQG5eT8",
        "colab_type": "code",
        "colab": {}
      },
      "source": [
        "%%capture cap_out\n",
        "import pandas as pd\n",
        "import matplotlib.pyplot as plt\n",
        "import seaborn as sns\n",
        "import warnings\n",
        "import numpy as np\n",
        "import scipy.constants as k\n",
        "!pip install ipympl\n",
        "warnings.filterwarnings('ignore')\n",
        "%matplotlib widget"
      ],
      "execution_count": 0,
      "outputs": []
    },
    {
      "cell_type": "code",
      "metadata": {
        "id": "ctfrvuYzbdOC",
        "colab_type": "code",
        "colab": {}
      },
      "source": [
        "#del plt"
      ],
      "execution_count": 0,
      "outputs": []
    },
    {
      "cell_type": "code",
      "metadata": {
        "id": "D35ysPUI5eUQ",
        "colab_type": "code",
        "outputId": "4eeee557-5a8c-47d0-efe1-08c5c04fa9a6",
        "colab": {
          "base_uri": "https://localhost:8080/",
          "height": 204
        }
      },
      "source": [
        "data = pd.read_csv('https://raw.githubusercontent.com/eduardoheros/lab-plotting-multiple-data-series/master/data/liquor_store_sales.csv')\n",
        "data.head()"
      ],
      "execution_count": 19,
      "outputs": [
        {
          "output_type": "execute_result",
          "data": {
            "text/html": [
              "<div>\n",
              "<style scoped>\n",
              "    .dataframe tbody tr th:only-of-type {\n",
              "        vertical-align: middle;\n",
              "    }\n",
              "\n",
              "    .dataframe tbody tr th {\n",
              "        vertical-align: top;\n",
              "    }\n",
              "\n",
              "    .dataframe thead th {\n",
              "        text-align: right;\n",
              "    }\n",
              "</style>\n",
              "<table border=\"1\" class=\"dataframe\">\n",
              "  <thead>\n",
              "    <tr style=\"text-align: right;\">\n",
              "      <th></th>\n",
              "      <th>Year</th>\n",
              "      <th>Month</th>\n",
              "      <th>Supplier</th>\n",
              "      <th>ItemCode</th>\n",
              "      <th>Description</th>\n",
              "      <th>ItemType</th>\n",
              "      <th>RetailSales</th>\n",
              "      <th>RetailTransfers</th>\n",
              "      <th>WarehouseSales</th>\n",
              "    </tr>\n",
              "  </thead>\n",
              "  <tbody>\n",
              "    <tr>\n",
              "      <th>0</th>\n",
              "      <td>2017</td>\n",
              "      <td>4</td>\n",
              "      <td>ROYAL WINE CORP</td>\n",
              "      <td>100200</td>\n",
              "      <td>GAMLA CAB - 750ML</td>\n",
              "      <td>WINE</td>\n",
              "      <td>0.0</td>\n",
              "      <td>1.0</td>\n",
              "      <td>0.0</td>\n",
              "    </tr>\n",
              "    <tr>\n",
              "      <th>1</th>\n",
              "      <td>2017</td>\n",
              "      <td>4</td>\n",
              "      <td>SANTA MARGHERITA USA INC</td>\n",
              "      <td>100749</td>\n",
              "      <td>SANTA MARGHERITA P/GRIG ALTO - 375ML</td>\n",
              "      <td>WINE</td>\n",
              "      <td>0.0</td>\n",
              "      <td>1.0</td>\n",
              "      <td>0.0</td>\n",
              "    </tr>\n",
              "    <tr>\n",
              "      <th>2</th>\n",
              "      <td>2017</td>\n",
              "      <td>4</td>\n",
              "      <td>JIM BEAM BRANDS CO</td>\n",
              "      <td>10103</td>\n",
              "      <td>KNOB CREEK BOURBON 9YR - 100P - 375ML</td>\n",
              "      <td>LIQUOR</td>\n",
              "      <td>0.0</td>\n",
              "      <td>8.0</td>\n",
              "      <td>0.0</td>\n",
              "    </tr>\n",
              "    <tr>\n",
              "      <th>3</th>\n",
              "      <td>2017</td>\n",
              "      <td>4</td>\n",
              "      <td>HEAVEN HILL DISTILLERIES INC</td>\n",
              "      <td>10120</td>\n",
              "      <td>J W DANT BOURBON 100P - 1.75L</td>\n",
              "      <td>LIQUOR</td>\n",
              "      <td>0.0</td>\n",
              "      <td>2.0</td>\n",
              "      <td>0.0</td>\n",
              "    </tr>\n",
              "    <tr>\n",
              "      <th>4</th>\n",
              "      <td>2017</td>\n",
              "      <td>4</td>\n",
              "      <td>ROYAL WINE CORP</td>\n",
              "      <td>101664</td>\n",
              "      <td>RAMON CORDOVA RIOJA - 750ML</td>\n",
              "      <td>WINE</td>\n",
              "      <td>0.0</td>\n",
              "      <td>4.0</td>\n",
              "      <td>0.0</td>\n",
              "    </tr>\n",
              "  </tbody>\n",
              "</table>\n",
              "</div>"
            ],
            "text/plain": [
              "   Year  Month  ... RetailTransfers WarehouseSales\n",
              "0  2017      4  ...             1.0            0.0\n",
              "1  2017      4  ...             1.0            0.0\n",
              "2  2017      4  ...             8.0            0.0\n",
              "3  2017      4  ...             2.0            0.0\n",
              "4  2017      4  ...             4.0            0.0\n",
              "\n",
              "[5 rows x 9 columns]"
            ]
          },
          "metadata": {
            "tags": []
          },
          "execution_count": 19
        }
      ]
    },
    {
      "cell_type": "markdown",
      "metadata": {
        "id": "ZcE-gzgF5eUV",
        "colab_type": "text"
      },
      "source": [
        "## 1. Create a bar chart with bars for total Retail Sales, Retail Transfers, and Warehouse Sales by Item Type."
      ]
    },
    {
      "cell_type": "code",
      "metadata": {
        "id": "l59cogYj5eUV",
        "colab_type": "code",
        "outputId": "82f65ce3-23ec-4bae-a337-d916302bda0b",
        "colab": {
          "base_uri": "https://localhost:8080/",
          "height": 17,
          "referenced_widgets": [
            "81dec110da3f4763a44dfe73747565ce"
          ]
        }
      },
      "source": [
        "plt.style.use(\"fast\")\n",
        "phi=k.golden_ratio\n",
        "plt.figure(figsize=(phi*7,7))\n",
        "plt.bar([1,2,3],[data[\"RetailSales\"].sum(),data[\"RetailTransfers\"].sum(),data[\"WarehouseSales\"].sum()],color=[\"#ff6f69\",\"#ffcc5c\",\"#88d8b0\"])\n",
        "plt.title(\"Sales\")\n",
        "plt.xticks([1,2,3],[\"Retail\",\"RetailTransfers\",\"Warehouse\"])\n",
        "plt.show();"
      ],
      "execution_count": 8,
      "outputs": [
        {
          "output_type": "display_data",
          "data": {
            "application/vnd.jupyter.widget-view+json": {
              "model_id": "81dec110da3f4763a44dfe73747565ce",
              "version_minor": 0,
              "version_major": 2
            },
            "text/plain": [
              "Canvas(toolbar=Toolbar(toolitems=[('Home', 'Reset original view', 'home', 'home'), ('Back', 'Back to previous …"
            ]
          },
          "metadata": {
            "tags": []
          }
        }
      ]
    },
    {
      "cell_type": "markdown",
      "metadata": {
        "id": "L-QFDVa55eUb",
        "colab_type": "text"
      },
      "source": [
        "## 2. Create a horizontal bar chart showing sales mix for the top 10 suppliers with the most total sales. "
      ]
    },
    {
      "cell_type": "code",
      "metadata": {
        "id": "VZ9vUb085eUd",
        "colab_type": "code",
        "outputId": "38ac7b45-8b30-4a20-bb4f-2b177384898c",
        "colab": {
          "base_uri": "https://localhost:8080/",
          "height": 17,
          "referenced_widgets": [
            "adf392a3204a4b868d0fac4d8d059013"
          ]
        }
      },
      "source": [
        "data[\"Total\"]=data.RetailSales+data.RetailTransfers+data.WarehouseSales\n",
        "filtered=data.groupby(\"Supplier\")[\"Total\"].sum()\n",
        "filtered.sort_values(ascending=False,inplace=True)\n",
        "arange=np.arange(10,0,-1)\n",
        "colors=[\"#96ceb4\",\"#ffeead\",\"#ff6f69\",\"#ffcc5c\",\"#88d8b0\",\"#96ceb4\",\"#ffeead\",\"#ff6f69\"]\n",
        "plt.style.use(\"ggplot\")\n",
        "plt.figure(figsize=(7*phi,7))\n",
        "plt.barh(arange,filtered[0:10],color=colors)\n",
        "plt.title(\"Top 10 Sales\")\n",
        "plt.yticks(arange,filtered[0:10].index)\n",
        "plt.show();\n"
      ],
      "execution_count": 9,
      "outputs": [
        {
          "output_type": "display_data",
          "data": {
            "application/vnd.jupyter.widget-view+json": {
              "model_id": "adf392a3204a4b868d0fac4d8d059013",
              "version_minor": 0,
              "version_major": 2
            },
            "text/plain": [
              "Canvas(toolbar=Toolbar(toolitems=[('Home', 'Reset original view', 'home', 'home'), ('Back', 'Back to previous …"
            ]
          },
          "metadata": {
            "tags": []
          }
        }
      ]
    },
    {
      "cell_type": "markdown",
      "metadata": {
        "id": "-4jfBIs_5eUg",
        "colab_type": "text"
      },
      "source": [
        "## 3. Create a multi-line chart that shows average Retail Sales, Retail Transfers, and Warehouse Sales per month over time."
      ]
    },
    {
      "cell_type": "code",
      "metadata": {
        "id": "qbYZ4lMx5eUg",
        "colab_type": "code",
        "outputId": "f616b545-36e4-481a-fc6e-86c3ae5de1e0",
        "colab": {
          "base_uri": "https://localhost:8080/",
          "height": 359
        }
      },
      "source": [
        "filtered=data.groupby([\"Year\",\"Month\"],as_index=False).agg({\"RetailSales\":\"mean\",\"RetailTransfers\":\"mean\",\"WarehouseSales\":\"mean\"})\n",
        "filtered"
      ],
      "execution_count": 10,
      "outputs": [
        {
          "output_type": "execute_result",
          "data": {
            "text/html": [
              "<div>\n",
              "<style scoped>\n",
              "    .dataframe tbody tr th:only-of-type {\n",
              "        vertical-align: middle;\n",
              "    }\n",
              "\n",
              "    .dataframe tbody tr th {\n",
              "        vertical-align: top;\n",
              "    }\n",
              "\n",
              "    .dataframe thead th {\n",
              "        text-align: right;\n",
              "    }\n",
              "</style>\n",
              "<table border=\"1\" class=\"dataframe\">\n",
              "  <thead>\n",
              "    <tr style=\"text-align: right;\">\n",
              "      <th></th>\n",
              "      <th>Year</th>\n",
              "      <th>Month</th>\n",
              "      <th>RetailSales</th>\n",
              "      <th>RetailTransfers</th>\n",
              "      <th>WarehouseSales</th>\n",
              "    </tr>\n",
              "  </thead>\n",
              "  <tbody>\n",
              "    <tr>\n",
              "      <th>0</th>\n",
              "      <td>2017</td>\n",
              "      <td>4</td>\n",
              "      <td>0.000000</td>\n",
              "      <td>15.707503</td>\n",
              "      <td>0.000000</td>\n",
              "    </tr>\n",
              "    <tr>\n",
              "      <th>1</th>\n",
              "      <td>2017</td>\n",
              "      <td>5</td>\n",
              "      <td>7.038838</td>\n",
              "      <td>7.421817</td>\n",
              "      <td>27.310548</td>\n",
              "    </tr>\n",
              "    <tr>\n",
              "      <th>2</th>\n",
              "      <td>2017</td>\n",
              "      <td>6</td>\n",
              "      <td>7.143914</td>\n",
              "      <td>6.950396</td>\n",
              "      <td>27.839069</td>\n",
              "    </tr>\n",
              "    <tr>\n",
              "      <th>3</th>\n",
              "      <td>2017</td>\n",
              "      <td>8</td>\n",
              "      <td>6.409991</td>\n",
              "      <td>6.584726</td>\n",
              "      <td>28.122641</td>\n",
              "    </tr>\n",
              "    <tr>\n",
              "      <th>4</th>\n",
              "      <td>2017</td>\n",
              "      <td>9</td>\n",
              "      <td>6.757254</td>\n",
              "      <td>6.419721</td>\n",
              "      <td>22.817909</td>\n",
              "    </tr>\n",
              "    <tr>\n",
              "      <th>5</th>\n",
              "      <td>2017</td>\n",
              "      <td>10</td>\n",
              "      <td>6.549021</td>\n",
              "      <td>6.827827</td>\n",
              "      <td>22.289367</td>\n",
              "    </tr>\n",
              "    <tr>\n",
              "      <th>6</th>\n",
              "      <td>2017</td>\n",
              "      <td>11</td>\n",
              "      <td>6.765496</td>\n",
              "      <td>7.103699</td>\n",
              "      <td>23.348862</td>\n",
              "    </tr>\n",
              "    <tr>\n",
              "      <th>7</th>\n",
              "      <td>2017</td>\n",
              "      <td>12</td>\n",
              "      <td>9.078241</td>\n",
              "      <td>8.353759</td>\n",
              "      <td>21.169463</td>\n",
              "    </tr>\n",
              "    <tr>\n",
              "      <th>8</th>\n",
              "      <td>2018</td>\n",
              "      <td>1</td>\n",
              "      <td>5.679413</td>\n",
              "      <td>5.574833</td>\n",
              "      <td>19.072137</td>\n",
              "    </tr>\n",
              "    <tr>\n",
              "      <th>9</th>\n",
              "      <td>2018</td>\n",
              "      <td>2</td>\n",
              "      <td>5.939247</td>\n",
              "      <td>6.050136</td>\n",
              "      <td>20.229658</td>\n",
              "    </tr>\n",
              "  </tbody>\n",
              "</table>\n",
              "</div>"
            ],
            "text/plain": [
              "   Year  Month  RetailSales  RetailTransfers  WarehouseSales\n",
              "0  2017      4     0.000000        15.707503        0.000000\n",
              "1  2017      5     7.038838         7.421817       27.310548\n",
              "2  2017      6     7.143914         6.950396       27.839069\n",
              "3  2017      8     6.409991         6.584726       28.122641\n",
              "4  2017      9     6.757254         6.419721       22.817909\n",
              "5  2017     10     6.549021         6.827827       22.289367\n",
              "6  2017     11     6.765496         7.103699       23.348862\n",
              "7  2017     12     9.078241         8.353759       21.169463\n",
              "8  2018      1     5.679413         5.574833       19.072137\n",
              "9  2018      2     5.939247         6.050136       20.229658"
            ]
          },
          "metadata": {
            "tags": []
          },
          "execution_count": 10
        }
      ]
    },
    {
      "cell_type": "code",
      "metadata": {
        "id": "HiFajKaCUX5S",
        "colab_type": "code",
        "colab": {}
      },
      "source": [
        "##Se desea realizar manipulación fechas, y resulta más sencillo crear columna con valores tipo str para realizar un ordenamiento\n",
        "def crea_t(dataframe):\n",
        "  dataframe[\"t\"]=dataframe.Year.map(str)+\"-\"+dataframe.Month.map(lambda x:str(0)+str(x) if x<10 else str(x))\n",
        "  dataframe.drop([\"Year\",\"Month\"],axis=1,inplace=True)\n",
        "  return dataframe"
      ],
      "execution_count": 0,
      "outputs": []
    },
    {
      "cell_type": "code",
      "metadata": {
        "id": "Q4EAA0hukf5c",
        "colab_type": "code",
        "colab": {
          "base_uri": "https://localhost:8080/",
          "height": 17,
          "referenced_widgets": [
            "e8df84e5ea6a461394fc4fd17581ed84"
          ]
        },
        "outputId": "f6d71104-690d-49b7-f7c3-fab4e7cb6e26"
      },
      "source": [
        "crea_t(filtered)\n",
        "filtered.plot(x=\"t\",y=[\"RetailSales\",\"RetailTransfers\",\"WarehouseSales\"],color=[\"#ff6f69\",\"#ffcc5c\",\"#88d8b0\"],figsize=(7*phi,7))\n",
        "plt.title(\"Ventas en 1 año\");"
      ],
      "execution_count": 12,
      "outputs": [
        {
          "output_type": "display_data",
          "data": {
            "application/vnd.jupyter.widget-view+json": {
              "model_id": "e8df84e5ea6a461394fc4fd17581ed84",
              "version_minor": 0,
              "version_major": 2
            },
            "text/plain": [
              "Canvas(toolbar=Toolbar(toolitems=[('Home', 'Reset original view', 'home', 'home'), ('Back', 'Back to previous …"
            ]
          },
          "metadata": {
            "tags": []
          }
        }
      ]
    },
    {
      "cell_type": "code",
      "metadata": {
        "id": "V7Z_Ydu2UwF3",
        "colab_type": "code",
        "outputId": "82eb5b6a-31ec-45bc-a51e-a66e59e6d8c6",
        "colab": {
          "base_uri": "https://localhost:8080/",
          "height": 359
        }
      },
      "source": [
        "filtered"
      ],
      "execution_count": 13,
      "outputs": [
        {
          "output_type": "execute_result",
          "data": {
            "text/html": [
              "<div>\n",
              "<style scoped>\n",
              "    .dataframe tbody tr th:only-of-type {\n",
              "        vertical-align: middle;\n",
              "    }\n",
              "\n",
              "    .dataframe tbody tr th {\n",
              "        vertical-align: top;\n",
              "    }\n",
              "\n",
              "    .dataframe thead th {\n",
              "        text-align: right;\n",
              "    }\n",
              "</style>\n",
              "<table border=\"1\" class=\"dataframe\">\n",
              "  <thead>\n",
              "    <tr style=\"text-align: right;\">\n",
              "      <th></th>\n",
              "      <th>RetailSales</th>\n",
              "      <th>RetailTransfers</th>\n",
              "      <th>WarehouseSales</th>\n",
              "      <th>t</th>\n",
              "    </tr>\n",
              "  </thead>\n",
              "  <tbody>\n",
              "    <tr>\n",
              "      <th>0</th>\n",
              "      <td>0.000000</td>\n",
              "      <td>15.707503</td>\n",
              "      <td>0.000000</td>\n",
              "      <td>2017-04</td>\n",
              "    </tr>\n",
              "    <tr>\n",
              "      <th>1</th>\n",
              "      <td>7.038838</td>\n",
              "      <td>7.421817</td>\n",
              "      <td>27.310548</td>\n",
              "      <td>2017-05</td>\n",
              "    </tr>\n",
              "    <tr>\n",
              "      <th>2</th>\n",
              "      <td>7.143914</td>\n",
              "      <td>6.950396</td>\n",
              "      <td>27.839069</td>\n",
              "      <td>2017-06</td>\n",
              "    </tr>\n",
              "    <tr>\n",
              "      <th>3</th>\n",
              "      <td>6.409991</td>\n",
              "      <td>6.584726</td>\n",
              "      <td>28.122641</td>\n",
              "      <td>2017-08</td>\n",
              "    </tr>\n",
              "    <tr>\n",
              "      <th>4</th>\n",
              "      <td>6.757254</td>\n",
              "      <td>6.419721</td>\n",
              "      <td>22.817909</td>\n",
              "      <td>2017-09</td>\n",
              "    </tr>\n",
              "    <tr>\n",
              "      <th>5</th>\n",
              "      <td>6.549021</td>\n",
              "      <td>6.827827</td>\n",
              "      <td>22.289367</td>\n",
              "      <td>2017-10</td>\n",
              "    </tr>\n",
              "    <tr>\n",
              "      <th>6</th>\n",
              "      <td>6.765496</td>\n",
              "      <td>7.103699</td>\n",
              "      <td>23.348862</td>\n",
              "      <td>2017-11</td>\n",
              "    </tr>\n",
              "    <tr>\n",
              "      <th>7</th>\n",
              "      <td>9.078241</td>\n",
              "      <td>8.353759</td>\n",
              "      <td>21.169463</td>\n",
              "      <td>2017-12</td>\n",
              "    </tr>\n",
              "    <tr>\n",
              "      <th>8</th>\n",
              "      <td>5.679413</td>\n",
              "      <td>5.574833</td>\n",
              "      <td>19.072137</td>\n",
              "      <td>2018-01</td>\n",
              "    </tr>\n",
              "    <tr>\n",
              "      <th>9</th>\n",
              "      <td>5.939247</td>\n",
              "      <td>6.050136</td>\n",
              "      <td>20.229658</td>\n",
              "      <td>2018-02</td>\n",
              "    </tr>\n",
              "  </tbody>\n",
              "</table>\n",
              "</div>"
            ],
            "text/plain": [
              "   RetailSales  RetailTransfers  WarehouseSales        t\n",
              "0     0.000000        15.707503        0.000000  2017-04\n",
              "1     7.038838         7.421817       27.310548  2017-05\n",
              "2     7.143914         6.950396       27.839069  2017-06\n",
              "3     6.409991         6.584726       28.122641  2017-08\n",
              "4     6.757254         6.419721       22.817909  2017-09\n",
              "5     6.549021         6.827827       22.289367  2017-10\n",
              "6     6.765496         7.103699       23.348862  2017-11\n",
              "7     9.078241         8.353759       21.169463  2017-12\n",
              "8     5.679413         5.574833       19.072137  2018-01\n",
              "9     5.939247         6.050136       20.229658  2018-02"
            ]
          },
          "metadata": {
            "tags": []
          },
          "execution_count": 13
        }
      ]
    },
    {
      "cell_type": "markdown",
      "metadata": {
        "id": "gciek3ZL5eUm",
        "colab_type": "text"
      },
      "source": [
        "## 4. Plot the same information as above but as a bar chart."
      ]
    },
    {
      "cell_type": "code",
      "metadata": {
        "id": "1Oq7m3XY5eUn",
        "colab_type": "code",
        "outputId": "cc71214e-0a50-4b92-d301-737570a49253",
        "colab": {
          "base_uri": "https://localhost:8080/",
          "height": 17,
          "referenced_widgets": [
            "21b1433893d744538b885534e09f6b79"
          ]
        }
      },
      "source": [
        "#filtered.set_index(\"t\",inplace=True)\n",
        "filtered=filtered[[\"RetailSales\",\"RetailTransfers\",\"WarehouseSales\"]]\n",
        "filtered.plot.bar(color=[\"#ff6f69\",\"#ffcc5c\",\"#88d8b0\"],figsize=(6*phi,6),width=0.85);"
      ],
      "execution_count": 14,
      "outputs": [
        {
          "output_type": "display_data",
          "data": {
            "application/vnd.jupyter.widget-view+json": {
              "model_id": "21b1433893d744538b885534e09f6b79",
              "version_minor": 0,
              "version_major": 2
            },
            "text/plain": [
              "Canvas(toolbar=Toolbar(toolitems=[('Home', 'Reset original view', 'home', 'home'), ('Back', 'Back to previous …"
            ]
          },
          "metadata": {
            "tags": []
          }
        }
      ]
    },
    {
      "cell_type": "markdown",
      "metadata": {
        "id": "ISoOverb5eUs",
        "colab_type": "text"
      },
      "source": [
        "## 5. Create a multi-line chart that shows Retail Sales summed by Item Type over time (Year & Month).\n",
        "\n",
        "*Hint: There should be a line representing each Item Type.*"
      ]
    },
    {
      "cell_type": "code",
      "metadata": {
        "id": "vPsiz8U_5eUt",
        "colab_type": "code",
        "colab": {
          "base_uri": "https://localhost:8080/",
          "height": 34
        },
        "outputId": "0925ae7a-878d-4b8d-ff44-58f7145854a6"
      },
      "source": [
        "'''\n",
        "filtered=data.copy()\n",
        "crea_t(filtered)\n",
        "filtered=filtered.groupby([\"ItemType\",\"t\"],as_index=False)[\"RetailSales\"].sum()\n",
        "tipos=filtered.ItemType.unique()\n",
        "#for i in range(len(tipos)):\n",
        "#  f=filtered[filtered[\"ItemType\"]==tipos[i]]\n",
        " \n",
        "f=filtered[filtered[\"ItemType\"]==tipos[0]]\n",
        "#plt.figure(figsize=(5,5))\n",
        "plt.plot(\"t\",\"RetailSales\",data=f,color=\"b\")\n",
        "plt.show()'''\n",
        "# libraries\n",
        "import matplotlib.pyplot as plt\n",
        "import numpy as np\n",
        "import pandas as pd\n",
        " \n",
        "# Data\n",
        "df=pd.DataFrame({'x': range(1,11), 'y1': np.random.randn(10), 'y2': np.random.randn(10)+range(1,11), 'y3': np.random.randn(10)+range(11,21) })\n",
        " \n",
        "# multiple line plot\n",
        "plt.plot( 'x', 'y1', data=df, marker='o', markerfacecolor='blue', markersize=12, color='skyblue', linewidth=4)\n",
        "plt.plot( 'x', 'y2', data=df, marker='', color='olive', linewidth=2)\n",
        "plt.plot( 'x', 'y3', data=df, marker='', color='olive', linewidth=2, linestyle='dashed', label=\"toto\")\n",
        "plt.legend()\n"
      ],
      "execution_count": 29,
      "outputs": [
        {
          "output_type": "execute_result",
          "data": {
            "text/plain": [
              "<matplotlib.legend.Legend at 0x7f6e969a7320>"
            ]
          },
          "metadata": {
            "tags": []
          },
          "execution_count": 29
        }
      ]
    },
    {
      "cell_type": "markdown",
      "metadata": {
        "id": "SVcZ_z505eUw",
        "colab_type": "text"
      },
      "source": [
        "## 6. Plot the same information as above but as a bar chart."
      ]
    },
    {
      "cell_type": "code",
      "metadata": {
        "id": "nBGvA--C5eUx",
        "colab_type": "code",
        "colab": {}
      },
      "source": [
        ""
      ],
      "execution_count": 0,
      "outputs": []
    },
    {
      "cell_type": "markdown",
      "metadata": {
        "id": "T7L0H6A85eU0",
        "colab_type": "text"
      },
      "source": [
        "## 7. Create a scatter plot showing the relationship between Retail Sales (x-axis) and Retail Transfers (y-axis) with the plot points color-coded according to their Item Type.\n",
        "\n",
        "*Hint: Seaborn's lmplot is the easiest way to generate the scatter plot.*"
      ]
    },
    {
      "cell_type": "code",
      "metadata": {
        "id": "-mDrZ-3_5eU1",
        "colab_type": "code",
        "colab": {}
      },
      "source": [
        ""
      ],
      "execution_count": 0,
      "outputs": []
    },
    {
      "cell_type": "markdown",
      "metadata": {
        "id": "BOiDbEhI5eU6",
        "colab_type": "text"
      },
      "source": [
        "## 8. Create a scatter matrix using all the numeric fields in the data set with the plot points color-coded by Item Type.\n",
        "\n",
        "*Hint: Seaborn's pairplot may be your best option here.*"
      ]
    },
    {
      "cell_type": "code",
      "metadata": {
        "id": "OOB_1e8q5eU7",
        "colab_type": "code",
        "colab": {}
      },
      "source": [
        ""
      ],
      "execution_count": 0,
      "outputs": []
    }
  ]
}