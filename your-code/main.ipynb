{
  "nbformat": 4,
  "nbformat_minor": 0,
  "metadata": {
    "kernelspec": {
      "display_name": "Python 3",
      "language": "python",
      "name": "python3"
    },
    "language_info": {
      "codemirror_mode": {
        "name": "ipython",
        "version": 3
      },
      "file_extension": ".py",
      "mimetype": "text/x-python",
      "name": "python",
      "nbconvert_exporter": "python",
      "pygments_lexer": "ipython3",
      "version": "3.7.2"
    },
    "colab": {
      "name": "main.ipynb",
      "provenance": []
    }
  },
  "cells": [
    {
      "cell_type": "markdown",
      "metadata": {
        "id": "rBPg_lwa5eT5",
        "colab_type": "text"
      },
      "source": [
        "# Plotting Multiple Data Series\n",
        "\n",
        "Complete the following set of exercises to solidify your knowledge of plotting multiple data series with pandas, matplotlib, and seaborn. Part of the challenge that comes with plotting multiple data series is transforming the data into the form needed to visualize it like you want. For some of the exercises in this lab, you will need to transform the data into the form most appropriate for generating the visualization and then create the plot."
      ]
    },
    {
      "cell_type": "code",
      "metadata": {
        "id": "raHcdxQG5eT8",
        "colab_type": "code",
        "colab": {}
      },
      "source": [
        "import pandas as pd\n",
        "import matplotlib.pyplot as plt\n",
        "import seaborn as sns\n",
        "import warnings\n",
        "import numpy as np\n",
        "\n",
        "warnings.filterwarnings('ignore')\n",
        "%matplotlib inline"
      ],
      "execution_count": 0,
      "outputs": []
    },
    {
      "cell_type": "code",
      "metadata": {
        "id": "D35ysPUI5eUQ",
        "colab_type": "code",
        "colab": {
          "base_uri": "https://localhost:8080/",
          "height": 204
        },
        "outputId": "eac6393e-5b7d-4eef-fcd4-f02b44610399"
      },
      "source": [
        "data = pd.read_csv('https://raw.githubusercontent.com/eduardoheros/lab-plotting-multiple-data-series/master/data/liquor_store_sales.csv')\n",
        "data.head()"
      ],
      "execution_count": 75,
      "outputs": [
        {
          "output_type": "execute_result",
          "data": {
            "text/html": [
              "<div>\n",
              "<style scoped>\n",
              "    .dataframe tbody tr th:only-of-type {\n",
              "        vertical-align: middle;\n",
              "    }\n",
              "\n",
              "    .dataframe tbody tr th {\n",
              "        vertical-align: top;\n",
              "    }\n",
              "\n",
              "    .dataframe thead th {\n",
              "        text-align: right;\n",
              "    }\n",
              "</style>\n",
              "<table border=\"1\" class=\"dataframe\">\n",
              "  <thead>\n",
              "    <tr style=\"text-align: right;\">\n",
              "      <th></th>\n",
              "      <th>Year</th>\n",
              "      <th>Month</th>\n",
              "      <th>Supplier</th>\n",
              "      <th>ItemCode</th>\n",
              "      <th>Description</th>\n",
              "      <th>ItemType</th>\n",
              "      <th>RetailSales</th>\n",
              "      <th>RetailTransfers</th>\n",
              "      <th>WarehouseSales</th>\n",
              "    </tr>\n",
              "  </thead>\n",
              "  <tbody>\n",
              "    <tr>\n",
              "      <th>0</th>\n",
              "      <td>2017</td>\n",
              "      <td>4</td>\n",
              "      <td>ROYAL WINE CORP</td>\n",
              "      <td>100200</td>\n",
              "      <td>GAMLA CAB - 750ML</td>\n",
              "      <td>WINE</td>\n",
              "      <td>0.0</td>\n",
              "      <td>1.0</td>\n",
              "      <td>0.0</td>\n",
              "    </tr>\n",
              "    <tr>\n",
              "      <th>1</th>\n",
              "      <td>2017</td>\n",
              "      <td>4</td>\n",
              "      <td>SANTA MARGHERITA USA INC</td>\n",
              "      <td>100749</td>\n",
              "      <td>SANTA MARGHERITA P/GRIG ALTO - 375ML</td>\n",
              "      <td>WINE</td>\n",
              "      <td>0.0</td>\n",
              "      <td>1.0</td>\n",
              "      <td>0.0</td>\n",
              "    </tr>\n",
              "    <tr>\n",
              "      <th>2</th>\n",
              "      <td>2017</td>\n",
              "      <td>4</td>\n",
              "      <td>JIM BEAM BRANDS CO</td>\n",
              "      <td>10103</td>\n",
              "      <td>KNOB CREEK BOURBON 9YR - 100P - 375ML</td>\n",
              "      <td>LIQUOR</td>\n",
              "      <td>0.0</td>\n",
              "      <td>8.0</td>\n",
              "      <td>0.0</td>\n",
              "    </tr>\n",
              "    <tr>\n",
              "      <th>3</th>\n",
              "      <td>2017</td>\n",
              "      <td>4</td>\n",
              "      <td>HEAVEN HILL DISTILLERIES INC</td>\n",
              "      <td>10120</td>\n",
              "      <td>J W DANT BOURBON 100P - 1.75L</td>\n",
              "      <td>LIQUOR</td>\n",
              "      <td>0.0</td>\n",
              "      <td>2.0</td>\n",
              "      <td>0.0</td>\n",
              "    </tr>\n",
              "    <tr>\n",
              "      <th>4</th>\n",
              "      <td>2017</td>\n",
              "      <td>4</td>\n",
              "      <td>ROYAL WINE CORP</td>\n",
              "      <td>101664</td>\n",
              "      <td>RAMON CORDOVA RIOJA - 750ML</td>\n",
              "      <td>WINE</td>\n",
              "      <td>0.0</td>\n",
              "      <td>4.0</td>\n",
              "      <td>0.0</td>\n",
              "    </tr>\n",
              "  </tbody>\n",
              "</table>\n",
              "</div>"
            ],
            "text/plain": [
              "   Year  Month  ... RetailTransfers WarehouseSales\n",
              "0  2017      4  ...             1.0            0.0\n",
              "1  2017      4  ...             1.0            0.0\n",
              "2  2017      4  ...             8.0            0.0\n",
              "3  2017      4  ...             2.0            0.0\n",
              "4  2017      4  ...             4.0            0.0\n",
              "\n",
              "[5 rows x 9 columns]"
            ]
          },
          "metadata": {
            "tags": []
          },
          "execution_count": 75
        }
      ]
    },
    {
      "cell_type": "markdown",
      "metadata": {
        "id": "ZcE-gzgF5eUV",
        "colab_type": "text"
      },
      "source": [
        "## 1. Create a bar chart with bars for total Retail Sales, Retail Transfers, and Warehouse Sales by Item Type."
      ]
    },
    {
      "cell_type": "code",
      "metadata": {
        "id": "l59cogYj5eUV",
        "colab_type": "code",
        "colab": {
          "base_uri": "https://localhost:8080/",
          "height": 433
        },
        "outputId": "82c66039-f253-4888-9f2f-22ed117ef550"
      },
      "source": [
        "plt.style.use(\"ggplot\")\n",
        "plt.bar([1,2,3],[data[\"RetailSales\"].sum(),data[\"RetailTransfers\"].sum(),data[\"WarehouseSales\"].sum()])\n",
        "plt.title(\"Sales\")\n",
        "plt.xticks([1,2,3],[\"Retail\",\"RetailTransfers\",\"Warehouse\"]);"
      ],
      "execution_count": 50,
      "outputs": [
        {
          "output_type": "display_data",
          "data": {
            "image/png": "[encoded data removed]",
            "text/plain": [
              "<Figure size 640x440 with 1 Axes>"
            ]
          },
          "metadata": {
            "tags": []
          }
        }
      ]
    },
    {
      "cell_type": "markdown",
      "metadata": {
        "id": "L-QFDVa55eUb",
        "colab_type": "text"
      },
      "source": [
        "## 2. Create a horizontal bar chart showing sales mix for the top 10 suppliers with the most total sales. "
      ]
    },
    {
      "cell_type": "code",
      "metadata": {
        "id": "VZ9vUb085eUd",
        "colab_type": "code",
        "colab": {
          "base_uri": "https://localhost:8080/",
          "height": 463
        },
        "outputId": "70f2deab-66fd-49d5-d8a0-acfd98424441"
      },
      "source": [
        "data[\"Total\"]=data.RetailSales+data.RetailTransfers+data.WarehouseSales\n",
        "filtered=data.groupby(\"Supplier\")[\"Total\"].sum()\n",
        "filtered.sort_values(ascending=False,inplace=True)\n",
        "arange=np.arange(10,0,-1)\n",
        "plt.style.use(\"ggplot\")\n",
        "plt.barh(arange,filtered[0:10])\n",
        "plt.title(\"Top 10 Sales\")\n",
        "plt.yticks(arange,filtered[0:10].index)\n",
        "plt.show();\n"
      ],
      "execution_count": 46,
      "outputs": [
        {
          "output_type": "display_data",
          "data": {
            "image/png": "[encoded data removed]",
            "text/plain": [
              "<Figure size 640x480 with 1 Axes>"
            ]
          },
          "metadata": {
            "tags": []
          }
        }
      ]
    },
    {
      "cell_type": "markdown",
      "metadata": {
        "id": "-4jfBIs_5eUg",
        "colab_type": "text"
      },
      "source": [
        "## 3. Create a multi-line chart that shows average Retail Sales, Retail Transfers, and Warehouse Sales per month over time."
      ]
    },
    {
      "cell_type": "code",
      "metadata": {
        "id": "qbYZ4lMx5eUg",
        "colab_type": "code",
        "colab": {
          "base_uri": "https://localhost:8080/",
          "height": 359
        },
        "outputId": "06ee970b-2910-4f40-b831-eec2340f519e"
      },
      "source": [
        "filtered=data.groupby([\"Year\",\"Month\"],as_index=False).agg({\"RetailSales\":\"mean\",\"RetailTransfers\":\"mean\",\"WarehouseSales\":\"mean\"})\n",
        "filtered"
      ],
      "execution_count": 95,
      "outputs": [
        {
          "output_type": "execute_result",
          "data": {
            "text/html": [
              "<div>\n",
              "<style scoped>\n",
              "    .dataframe tbody tr th:only-of-type {\n",
              "        vertical-align: middle;\n",
              "    }\n",
              "\n",
              "    .dataframe tbody tr th {\n",
              "        vertical-align: top;\n",
              "    }\n",
              "\n",
              "    .dataframe thead th {\n",
              "        text-align: right;\n",
              "    }\n",
              "</style>\n",
              "<table border=\"1\" class=\"dataframe\">\n",
              "  <thead>\n",
              "    <tr style=\"text-align: right;\">\n",
              "      <th></th>\n",
              "      <th>Year</th>\n",
              "      <th>Month</th>\n",
              "      <th>RetailSales</th>\n",
              "      <th>RetailTransfers</th>\n",
              "      <th>WarehouseSales</th>\n",
              "    </tr>\n",
              "  </thead>\n",
              "  <tbody>\n",
              "    <tr>\n",
              "      <th>0</th>\n",
              "      <td>2017</td>\n",
              "      <td>4</td>\n",
              "      <td>0.000000</td>\n",
              "      <td>15.707503</td>\n",
              "      <td>0.000000</td>\n",
              "    </tr>\n",
              "    <tr>\n",
              "      <th>1</th>\n",
              "      <td>2017</td>\n",
              "      <td>5</td>\n",
              "      <td>7.038838</td>\n",
              "      <td>7.421817</td>\n",
              "      <td>27.310548</td>\n",
              "    </tr>\n",
              "    <tr>\n",
              "      <th>2</th>\n",
              "      <td>2017</td>\n",
              "      <td>6</td>\n",
              "      <td>7.143914</td>\n",
              "      <td>6.950396</td>\n",
              "      <td>27.839069</td>\n",
              "    </tr>\n",
              "    <tr>\n",
              "      <th>3</th>\n",
              "      <td>2017</td>\n",
              "      <td>8</td>\n",
              "      <td>6.409991</td>\n",
              "      <td>6.584726</td>\n",
              "      <td>28.122641</td>\n",
              "    </tr>\n",
              "    <tr>\n",
              "      <th>4</th>\n",
              "      <td>2017</td>\n",
              "      <td>9</td>\n",
              "      <td>6.757254</td>\n",
              "      <td>6.419721</td>\n",
              "      <td>22.817909</td>\n",
              "    </tr>\n",
              "    <tr>\n",
              "      <th>5</th>\n",
              "      <td>2017</td>\n",
              "      <td>10</td>\n",
              "      <td>6.549021</td>\n",
              "      <td>6.827827</td>\n",
              "      <td>22.289367</td>\n",
              "    </tr>\n",
              "    <tr>\n",
              "      <th>6</th>\n",
              "      <td>2017</td>\n",
              "      <td>11</td>\n",
              "      <td>6.765496</td>\n",
              "      <td>7.103699</td>\n",
              "      <td>23.348862</td>\n",
              "    </tr>\n",
              "    <tr>\n",
              "      <th>7</th>\n",
              "      <td>2017</td>\n",
              "      <td>12</td>\n",
              "      <td>9.078241</td>\n",
              "      <td>8.353759</td>\n",
              "      <td>21.169463</td>\n",
              "    </tr>\n",
              "    <tr>\n",
              "      <th>8</th>\n",
              "      <td>2018</td>\n",
              "      <td>1</td>\n",
              "      <td>5.679413</td>\n",
              "      <td>5.574833</td>\n",
              "      <td>19.072137</td>\n",
              "    </tr>\n",
              "    <tr>\n",
              "      <th>9</th>\n",
              "      <td>2018</td>\n",
              "      <td>2</td>\n",
              "      <td>5.939247</td>\n",
              "      <td>6.050136</td>\n",
              "      <td>20.229658</td>\n",
              "    </tr>\n",
              "  </tbody>\n",
              "</table>\n",
              "</div>"
            ],
            "text/plain": [
              "   Year  Month  RetailSales  RetailTransfers  WarehouseSales\n",
              "0  2017      4     0.000000        15.707503        0.000000\n",
              "1  2017      5     7.038838         7.421817       27.310548\n",
              "2  2017      6     7.143914         6.950396       27.839069\n",
              "3  2017      8     6.409991         6.584726       28.122641\n",
              "4  2017      9     6.757254         6.419721       22.817909\n",
              "5  2017     10     6.549021         6.827827       22.289367\n",
              "6  2017     11     6.765496         7.103699       23.348862\n",
              "7  2017     12     9.078241         8.353759       21.169463\n",
              "8  2018      1     5.679413         5.574833       19.072137\n",
              "9  2018      2     5.939247         6.050136       20.229658"
            ]
          },
          "metadata": {
            "tags": []
          },
          "execution_count": 95
        }
      ]
    },
    {
      "cell_type": "code",
      "metadata": {
        "id": "HiFajKaCUX5S",
        "colab_type": "code",
        "colab": {
          "base_uri": "https://localhost:8080/",
          "height": 451
        },
        "outputId": "aed01bcd-45cc-41dd-b096-dca19dd65eea"
      },
      "source": [
        "filtered[\"t\"]=filtered.Year.map(str)+\"-\"+filtered.Month.map(str)\n",
        "filtered.plot(x=\"t\",y=[\"RetailSales\",\"RetailTransfers\",\"WarehouseSales\"])\n",
        "plt.title(\"Ventas en 1 año\");"
      ],
      "execution_count": 115,
      "outputs": [
        {
          "output_type": "display_data",
          "data": {
            "image/png": "[encoded data removed]",
            "text/plain": [
              "<Figure size 640x440 with 1 Axes>"
            ]
          },
          "metadata": {
            "tags": []
          }
        }
      ]
    },
    {
      "cell_type": "code",
      "metadata": {
        "id": "V7Z_Ydu2UwF3",
        "colab_type": "code",
        "colab": {
          "base_uri": "https://localhost:8080/",
          "height": 359
        },
        "outputId": "a663599b-9969-47d1-b58c-7de67977cc2d"
      },
      "source": [
        "filtered"
      ],
      "execution_count": 106,
      "outputs": [
        {
          "output_type": "execute_result",
          "data": {
            "text/html": [
              "<div>\n",
              "<style scoped>\n",
              "    .dataframe tbody tr th:only-of-type {\n",
              "        vertical-align: middle;\n",
              "    }\n",
              "\n",
              "    .dataframe tbody tr th {\n",
              "        vertical-align: top;\n",
              "    }\n",
              "\n",
              "    .dataframe thead th {\n",
              "        text-align: right;\n",
              "    }\n",
              "</style>\n",
              "<table border=\"1\" class=\"dataframe\">\n",
              "  <thead>\n",
              "    <tr style=\"text-align: right;\">\n",
              "      <th></th>\n",
              "      <th>Year</th>\n",
              "      <th>Month</th>\n",
              "      <th>RetailSales</th>\n",
              "      <th>RetailTransfers</th>\n",
              "      <th>WarehouseSales</th>\n",
              "      <th>t</th>\n",
              "    </tr>\n",
              "  </thead>\n",
              "  <tbody>\n",
              "    <tr>\n",
              "      <th>0</th>\n",
              "      <td>2017</td>\n",
              "      <td>4</td>\n",
              "      <td>0.000000</td>\n",
              "      <td>15.707503</td>\n",
              "      <td>0.000000</td>\n",
              "      <td>2017-4</td>\n",
              "    </tr>\n",
              "    <tr>\n",
              "      <th>1</th>\n",
              "      <td>2017</td>\n",
              "      <td>5</td>\n",
              "      <td>7.038838</td>\n",
              "      <td>7.421817</td>\n",
              "      <td>27.310548</td>\n",
              "      <td>2017-5</td>\n",
              "    </tr>\n",
              "    <tr>\n",
              "      <th>2</th>\n",
              "      <td>2017</td>\n",
              "      <td>6</td>\n",
              "      <td>7.143914</td>\n",
              "      <td>6.950396</td>\n",
              "      <td>27.839069</td>\n",
              "      <td>2017-6</td>\n",
              "    </tr>\n",
              "    <tr>\n",
              "      <th>3</th>\n",
              "      <td>2017</td>\n",
              "      <td>8</td>\n",
              "      <td>6.409991</td>\n",
              "      <td>6.584726</td>\n",
              "      <td>28.122641</td>\n",
              "      <td>2017-8</td>\n",
              "    </tr>\n",
              "    <tr>\n",
              "      <th>4</th>\n",
              "      <td>2017</td>\n",
              "      <td>9</td>\n",
              "      <td>6.757254</td>\n",
              "      <td>6.419721</td>\n",
              "      <td>22.817909</td>\n",
              "      <td>2017-9</td>\n",
              "    </tr>\n",
              "    <tr>\n",
              "      <th>5</th>\n",
              "      <td>2017</td>\n",
              "      <td>10</td>\n",
              "      <td>6.549021</td>\n",
              "      <td>6.827827</td>\n",
              "      <td>22.289367</td>\n",
              "      <td>2017-10</td>\n",
              "    </tr>\n",
              "    <tr>\n",
              "      <th>6</th>\n",
              "      <td>2017</td>\n",
              "      <td>11</td>\n",
              "      <td>6.765496</td>\n",
              "      <td>7.103699</td>\n",
              "      <td>23.348862</td>\n",
              "      <td>2017-11</td>\n",
              "    </tr>\n",
              "    <tr>\n",
              "      <th>7</th>\n",
              "      <td>2017</td>\n",
              "      <td>12</td>\n",
              "      <td>9.078241</td>\n",
              "      <td>8.353759</td>\n",
              "      <td>21.169463</td>\n",
              "      <td>2017-12</td>\n",
              "    </tr>\n",
              "    <tr>\n",
              "      <th>8</th>\n",
              "      <td>2018</td>\n",
              "      <td>1</td>\n",
              "      <td>5.679413</td>\n",
              "      <td>5.574833</td>\n",
              "      <td>19.072137</td>\n",
              "      <td>2018-1</td>\n",
              "    </tr>\n",
              "    <tr>\n",
              "      <th>9</th>\n",
              "      <td>2018</td>\n",
              "      <td>2</td>\n",
              "      <td>5.939247</td>\n",
              "      <td>6.050136</td>\n",
              "      <td>20.229658</td>\n",
              "      <td>2018-2</td>\n",
              "    </tr>\n",
              "  </tbody>\n",
              "</table>\n",
              "</div>"
            ],
            "text/plain": [
              "   Year  Month  RetailSales  RetailTransfers  WarehouseSales        t\n",
              "0  2017      4     0.000000        15.707503        0.000000   2017-4\n",
              "1  2017      5     7.038838         7.421817       27.310548   2017-5\n",
              "2  2017      6     7.143914         6.950396       27.839069   2017-6\n",
              "3  2017      8     6.409991         6.584726       28.122641   2017-8\n",
              "4  2017      9     6.757254         6.419721       22.817909   2017-9\n",
              "5  2017     10     6.549021         6.827827       22.289367  2017-10\n",
              "6  2017     11     6.765496         7.103699       23.348862  2017-11\n",
              "7  2017     12     9.078241         8.353759       21.169463  2017-12\n",
              "8  2018      1     5.679413         5.574833       19.072137   2018-1\n",
              "9  2018      2     5.939247         6.050136       20.229658   2018-2"
            ]
          },
          "metadata": {
            "tags": []
          },
          "execution_count": 106
        }
      ]
    },
    {
      "cell_type": "markdown",
      "metadata": {
        "id": "gciek3ZL5eUm",
        "colab_type": "text"
      },
      "source": [
        "## 4. Plot the same information as above but as a bar chart."
      ]
    },
    {
      "cell_type": "code",
      "metadata": {
        "id": "1Oq7m3XY5eUn",
        "colab_type": "code",
        "colab": {
          "base_uri": "https://localhost:8080/",
          "height": 469
        },
        "outputId": "7968f64e-5098-4c86-e5ac-0b21c9d979af"
      },
      "source": [
        "filtered.set_index(\"t\",inplace=True)\n",
        "filtered=filtered[[\"RetailSales\",\"RetailTransfers\",\"WarehouseSales\"]]\n",
        "filtered.plot.bar();"
      ],
      "execution_count": 124,
      "outputs": [
        {
          "output_type": "display_data",
          "data": {
            "image/png": "[encoded data removed]",
            "text/plain": [
              "<Figure size 640x440 with 1 Axes>"
            ]
          },
          "metadata": {
            "tags": []
          }
        }
      ]
    },
    {
      "cell_type": "markdown",
      "metadata": {
        "id": "ISoOverb5eUs",
        "colab_type": "text"
      },
      "source": [
        "## 5. Create a multi-line chart that shows Retail Sales summed by Item Type over time (Year & Month).\n",
        "\n",
        "*Hint: There should be a line representing each Item Type.*"
      ]
    },
    {
      "cell_type": "code",
      "metadata": {
        "id": "vPsiz8U_5eUt",
        "colab_type": "code",
        "colab": {}
      },
      "source": [
        ""
      ],
      "execution_count": 0,
      "outputs": []
    },
    {
      "cell_type": "markdown",
      "metadata": {
        "id": "SVcZ_z505eUw",
        "colab_type": "text"
      },
      "source": [
        "## 6. Plot the same information as above but as a bar chart."
      ]
    },
    {
      "cell_type": "code",
      "metadata": {
        "id": "nBGvA--C5eUx",
        "colab_type": "code",
        "colab": {}
      },
      "source": [
        ""
      ],
      "execution_count": 0,
      "outputs": []
    },
    {
      "cell_type": "markdown",
      "metadata": {
        "id": "T7L0H6A85eU0",
        "colab_type": "text"
      },
      "source": [
        "## 7. Create a scatter plot showing the relationship between Retail Sales (x-axis) and Retail Transfers (y-axis) with the plot points color-coded according to their Item Type.\n",
        "\n",
        "*Hint: Seaborn's lmplot is the easiest way to generate the scatter plot.*"
      ]
    },
    {
      "cell_type": "code",
      "metadata": {
        "id": "-mDrZ-3_5eU1",
        "colab_type": "code",
        "colab": {}
      },
      "source": [
        ""
      ],
      "execution_count": 0,
      "outputs": []
    },
    {
      "cell_type": "markdown",
      "metadata": {
        "id": "BOiDbEhI5eU6",
        "colab_type": "text"
      },
      "source": [
        "## 8. Create a scatter matrix using all the numeric fields in the data set with the plot points color-coded by Item Type.\n",
        "\n",
        "*Hint: Seaborn's pairplot may be your best option here.*"
      ]
    },
    {
      "cell_type": "code",
      "metadata": {
        "id": "OOB_1e8q5eU7",
        "colab_type": "code",
        "colab": {}
      },
      "source": [
        ""
      ],
      "execution_count": 0,
      "outputs": []
    }
  ]
}